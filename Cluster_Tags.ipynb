{
 "cells": [
  {
   "cell_type": "code",
   "execution_count": 38,
   "metadata": {
    "collapsed": true
   },
   "outputs": [],
   "source": [
    "'''\n",
    "        Author: Vincent Liu\n",
    "        Reference: \n",
    "            1. https://mubaris.com/2017/10/01/kmeans-clustering-in-python/\n",
    "            2. http://sepans.github.io/weather-mining/method.html\n",
    "'''\n",
    "\n",
    "# Import the file\n",
    "import pandas as pd\n",
    "import numpy as np\n",
    "\n",
    "df = pd.read_csv('/Users/derekliu/Downloads/Edited_Tags.csv',index_col = 0, thousands  = ',')\n",
    "# Put all activity names into a list and clean the list\n",
    "# acts = []\n",
    "# for index, row in df.iterrows():\n",
    "#     if str(row[\"CoCurriculars\"]) != 'nan':\n",
    "#         acts.append(str(row[\"CoCurriculars\"]))\n",
    "df.drop(['community'], axis = 1)\n",
    "df = df.T\n",
    "df.index.names = ['Tags']\n",
    "df.columns.names = ['CoCurricular']"
   ]
  },
  {
   "cell_type": "code",
   "execution_count": 39,
   "metadata": {
    "scrolled": false
   },
   "outputs": [
    {
     "data": {
      "text/html": [
       "<div>\n",
       "<style>\n",
       "    .dataframe thead tr:only-child th {\n",
       "        text-align: right;\n",
       "    }\n",
       "\n",
       "    .dataframe thead th {\n",
       "        text-align: left;\n",
       "    }\n",
       "\n",
       "    .dataframe tbody tr th {\n",
       "        vertical-align: top;\n",
       "    }\n",
       "</style>\n",
       "<table border=\"1\" class=\"dataframe\">\n",
       "  <thead>\n",
       "    <tr style=\"text-align: right;\">\n",
       "      <th></th>\n",
       "      <th>PC1</th>\n",
       "      <th>PC2</th>\n",
       "    </tr>\n",
       "    <tr>\n",
       "      <th>Tags</th>\n",
       "      <th></th>\n",
       "      <th></th>\n",
       "    </tr>\n",
       "  </thead>\n",
       "  <tbody>\n",
       "    <tr>\n",
       "      <th>teamwork</th>\n",
       "      <td>76.601186</td>\n",
       "      <td>156.709073</td>\n",
       "    </tr>\n",
       "    <tr>\n",
       "      <th>tech</th>\n",
       "      <td>83.094111</td>\n",
       "      <td>219.402053</td>\n",
       "    </tr>\n",
       "    <tr>\n",
       "      <th>design</th>\n",
       "      <td>-5.588846</td>\n",
       "      <td>93.406491</td>\n",
       "    </tr>\n",
       "    <tr>\n",
       "      <th>community</th>\n",
       "      <td>330.076512</td>\n",
       "      <td>-91.609063</td>\n",
       "    </tr>\n",
       "    <tr>\n",
       "      <th>engineering</th>\n",
       "      <td>76.989036</td>\n",
       "      <td>94.225000</td>\n",
       "    </tr>\n",
       "  </tbody>\n",
       "</table>\n",
       "</div>"
      ],
      "text/plain": [
       "                    PC1         PC2\n",
       "Tags                               \n",
       "teamwork      76.601186  156.709073\n",
       "tech          83.094111  219.402053\n",
       "design        -5.588846   93.406491\n",
       "community    330.076512  -91.609063\n",
       "engineering   76.989036   94.225000"
      ]
     },
     "execution_count": 39,
     "metadata": {},
     "output_type": "execute_result"
    }
   ],
   "source": [
    "# Dimension reduction using PCA\n",
    "from sklearn.decomposition import PCA\n",
    "\n",
    "pca = PCA(n_components=2)\n",
    "pca.fit(df)\n",
    "\n",
    "existing_2d = pca.transform(df)\n",
    "\n",
    "existing_df_2d = pd.DataFrame(existing_2d)\n",
    "existing_df_2d.index = df.index\n",
    "existing_df_2d.columns = ['PC1','PC2']\n",
    "\n",
    "# multiply the value so it's easy to see the difference\n",
    "existing_df_2d = existing_df_2d * 50\n",
    "existing_df_2d.head()\n",
    "\n",
    "# print(pca.explained_variance_ratio_) \n",
    "\n",
    "# ## Plot activities on 2D\n",
    "# %matplotlib inline\n",
    "# ax = existing_df_2d.plot(kind='scatter', x='PC2', y='PC1', figsize=(16,8))\n",
    "# for i, country in enumerate(df.index):\n",
    "#     ax.annotate(country, (existing_df_2d.iloc[i].PC2, existing_df_2d.iloc[i].PC1))"
   ]
  },
  {
   "cell_type": "code",
   "execution_count": 41,
   "metadata": {
    "collapsed": true,
    "scrolled": true
   },
   "outputs": [],
   "source": [
    "from sklearn.cluster import KMeans\n",
    "\n",
    "# fit the data and add a column of cluster to the df\n",
    "clusters = KMeans(n_clusters=10, n_init = 50).fit(df)\n",
    "existing_df_2d['cluster'] = pd.Series(clusters.labels_, index=existing_df_2d.index)\n",
    "\n",
    "# export the df to csv with the cluster number\n",
    "existing_df_2d.to_csv('/Users/derekliu/Desktop/Cluster_Tagwords.csv')"
   ]
  },
  {
   "cell_type": "code",
   "execution_count": 42,
   "metadata": {},
   "outputs": [
    {
     "data": {
      "image/png": "[encoded data removed]",
      "text/plain": [
       "<matplotlib.figure.Figure at 0x10ac7a4e0>"
      ]
     },
     "metadata": {},
     "output_type": "display_data"
    }
   ],
   "source": [
    "## plot the clusters\n",
    "import matplotlib.pyplot as plt\n",
    "\n",
    "plt.figure(figsize=(16, 10.5))\n",
    "axk = plt.scatter(existing_df_2d['PC2'], existing_df_2d['PC1'], c=clusters.labels_.astype(float), alpha = 0.7,facecolor='w', edgecolor='k')\n",
    "plt.show(axk)\n",
    "## Another way to plot with annotation. Messy and Colorless.\n",
    "# axk =existing_df_2d.plot(\n",
    "#     kind='scatter',\n",
    "#     x='PC2',y='PC1',\n",
    "#   #c=LABEL_COLOR_MAP,\n",
    "#     c=existing_df_2d.cluster.astype(np.float), \n",
    "#     figsize=(16,8)\n",
    "# )\n",
    "# for i, org in enumerate(existing_df_2d.index):\n",
    "#     axk.annotate(org, (existing_df_2d.iloc[i].PC2, existing_df_2d.iloc[i].PC1)) "
   ]
  },
  {
   "cell_type": "code",
   "execution_count": null,
   "metadata": {
    "collapsed": true
   },
   "outputs": [],
   "source": []
  }
 ],
 "metadata": {
  "kernelspec": {
   "display_name": "Python 3",
   "language": "python",
   "name": "python3"
  },
  "language_info": {
   "codemirror_mode": {
    "name": "ipython",
    "version": 3
   },
   "file_extension": ".py",
   "mimetype": "text/x-python",
   "name": "python",
   "nbconvert_exporter": "python",
   "pygments_lexer": "ipython3",
   "version": "3.6.2"
  }
 },
 "nbformat": 4,
 "nbformat_minor": 2
}
