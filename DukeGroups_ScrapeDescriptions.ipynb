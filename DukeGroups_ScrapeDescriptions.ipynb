{
 "cells": [
  {
   "cell_type": "code",
   "execution_count": null,
   "metadata": {
    "collapsed": true
   },
   "outputs": [],
   "source": [
    "# Expand the website and scrape\n",
    "from selenium import webdriver\n",
    "from selenium.webdriver.support.ui import WebDriverWait\n",
    "from selenium.webdriver.chrome.options import Options\n",
    "from selenium.common.exceptions import NoSuchElementException\n",
    "from time import sleep\n",
    "# Initialize variables\n",
    "site ='https://dukegroups.com/organizations?categories=7548&categories=7556'\n",
    "\n",
    "options = Options()\n",
    "options.add_argument('--headless')\n",
    "options.add_argument('--disable-gpu')  # Last I checked this was necessary.\n",
    "driver = webdriver.Chrome(executable_path='/Users/derekliu/Downloads/chromedriver', chrome_options=options)\n",
    "driver.get(site)\n",
    "    \n",
    "def expand_website():\n",
    "    # Access DukeGroups and make soup\n",
    "    while True:\n",
    "        try:\n",
    "           # poll the link with an arbitrary call\n",
    "            bLoadMore = driver.find_element_by_xpath('//*[@id=\"react-app\"]/div/div[2]/div/div/div[2]/div/div[2]/div[2]/button');\n",
    "            bLoadMore.click()\n",
    "            sleep(1);\n",
    "        except NoSuchElementException:\n",
    "            print(\"You've reached the end of the list!\")\n",
    "            return False\n",
    " # Count how many time it needs to click the button to expand the page\n",
    "for x in range (0, 30):\n",
    "    if expand_website() == False:\n",
    "        break\n",
    "    expand_website()"
   ]
  },
  {
   "cell_type": "code",
   "execution_count": null,
   "metadata": {
    "collapsed": true
   },
   "outputs": [],
   "source": [
    "from bs import BeautifulSoup\n",
    "soup = BeautifulSoup(driver.page_source, 'lxml')\n",
    "# Go to org list\n",
    "org_list_soup = soup.find('div', attrs = {'id': 'org-search-results'})\n",
    "\n",
    "# List of Organization's names\n",
    "orgnames = []\n",
    "# List of Organization's links\n",
    "orglinks = []\n",
    "# Program descriptions\n",
    "desc = []\n",
    "\n",
    "# Find all links to groups and append them into a list\n",
    "for link in org_list_soup.find_all('a'):\n",
    "        temp = link.get('href')\n",
    "        newlink = 'https://dukegroups.com' + str(temp) \n",
    "        orglinks.append(newlink)"
   ]
  },
  {
   "cell_type": "code",
   "execution_count": null,
   "metadata": {
    "collapsed": true
   },
   "outputs": [],
   "source": [
    "# Remove clubs not related to Technology\n",
    "id2remove = [0, 1, 2, 3, 4, 8 ,10, 11, 13 , 16, 17, 19, 22, 30, 34, 36, 37, 41, 48, 51, 54, 55, 60, 63, 65, 67]\n",
    "for i in sorted(id2remove, reverse=True): \n",
    "    del orglinks[i]"
   ]
  },
  {
   "cell_type": "code",
   "execution_count": null,
   "metadata": {
    "collapsed": true
   },
   "outputs": [],
   "source": [
    "# \"Academic\" + \"Environmental, Science, Technology\"\n",
    "for link in orglinks:\n",
    "    # Access DukeGroups and make soup\n",
    "    options = Options()\n",
    "    options.add_argument('--headless')\n",
    "    options.add_argument('--disable-gpu')  # Last I checked this was necessary.\n",
    "    driver = webdriver.Chrome(executable_path='/Users/derekliu/Downloads/chromedriver', chrome_options=options)\n",
    "    driver.get(link)\n",
    "    soup = BeautifulSoup(driver.page_source, 'lxml')\n",
    "    # find and append titles\n",
    "    title = soup.find('h1').get_text()\n",
    "    orgnames.append(title)\n",
    "    soup2 = soup.find('div', attrs ={'class': 'bodyText-large'})\n",
    "    # Append all Descriptions into a dictionary\n",
    "    desc.append(soup2.get_text())\n",
    "    print(soup2.get_text())"
   ]
  }
 ],
 "metadata": {
  "kernelspec": {
   "display_name": "Python 3",
   "language": "python",
   "name": "python3"
  },
  "language_info": {
   "codemirror_mode": {
    "name": "ipython",
    "version": 3
   },
   "file_extension": ".py",
   "mimetype": "text/x-python",
   "name": "python",
   "nbconvert_exporter": "python",
   "pygments_lexer": "ipython3",
   "version": "3.6.2"
  }
 },
 "nbformat": 4,
 "nbformat_minor": 2
}
