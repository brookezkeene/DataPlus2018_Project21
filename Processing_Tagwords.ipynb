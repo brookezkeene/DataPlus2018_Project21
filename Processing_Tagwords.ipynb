{
 "cells": [
  {
   "cell_type": "code",
   "execution_count": null,
   "metadata": {
    "collapsed": true
   },
   "outputs": [],
   "source": [
    "# Import the file\n",
    "import pandas as pd\n",
    "import numpy as np\n",
    "\n",
    "df = pd.read_csv('/Users/derekliu/Downloads/Tag_Words.csv')\n",
    "# Put all tag words into a list and clean the list\n",
    "tags = []\n",
    "for index, row in df.iterrows():\n",
    "    if str(row[\"Tag Words\"]) != 'nan':\n",
    "        tags.append(str(row[\"Tag Words\"]))\n",
    "\n",
    "# Unique_tags with input the name of the tag, output the\n",
    "unique_tags = {}  \n",
    "for i in tags:\n",
    "    cell = i.split(', ')\n",
    "    for i in cell:\n",
    "        i = i.lower()\n",
    "        if i == \"\":\n",
    "            continue\n",
    "        if (i.startswith(' ')): \n",
    "        #or word.startswith('(') or word.startswith(')')):\n",
    "            i = i[1:]\n",
    "        if (i.endswith(' ')): \n",
    "        #or word.startswith('(') or word.startswith(')')):\n",
    "            i = i[1:-1]  \n",
    "        if i not in unique_tags:\n",
    "            unique_tags[i] = 1\n",
    "        else:\n",
    "            unique_tags[i] += 1\n",
    "print(len(unique_tags))"
   ]
  }
 ],
 "metadata": {
  "kernelspec": {
   "display_name": "Python 3",
   "language": "python",
   "name": "python3"
  },
  "language_info": {
   "codemirror_mode": {
    "name": "ipython",
    "version": 3
   },
   "file_extension": ".py",
   "mimetype": "text/x-python",
   "name": "python",
   "nbconvert_exporter": "python",
   "pygments_lexer": "ipython3",
   "version": "3.6.2"
  }
 },
 "nbformat": 4,
 "nbformat_minor": 2
}
