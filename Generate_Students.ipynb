{
 "cells": [
  {
   "cell_type": "code",
   "execution_count": 44,
   "metadata": {
    "collapsed": true
   },
   "outputs": [],
   "source": [
    "'''\n",
    "        Author: Vincent Liu\n",
    "'''\n",
    "import pandas as pd\n",
    "import numpy as np\n",
    "\n",
    "df = pd.read_csv('/Users/derekliu/Desktop/Cluster_Groups.csv')\n",
    "# create a new df for students.\n",
    "# Row: distinct students. Column: activity names\n",
    "act = pd.read_csv('/Users/derekliu/Downloads/Edited_Tags.csv')\n",
    "org = act.T.loc['CoCurriculars']\n",
    "students = org.to_frame().T"
   ]
  },
  {
   "cell_type": "code",
   "execution_count": 47,
   "metadata": {
    "collapsed": true
   },
   "outputs": [],
   "source": [
    "## Generate 1000 students profiles, 250 people each grade\n",
    "# Each student will have a unique ID and occupy 4 rows, each representing one school year\n",
    "mu, sigma = 3, 2 # mean and standard deviation\n",
    "clusterNum = 10 # number of clusters\n",
    "clusterArray = list(range(0, clusterNum)) # cluster numbers list\n",
    "clusterArray = pd.Series(clusterArray)\n",
    "pickCluster = 3 # number of clusters to pick students activities\n",
    "numAct = 2 # number of activities from each cluster to choose\n",
    "prob = 1/df.shape[0] # probility of one activity being chosen\n",
    "normal = np.random.normal(mu, sigma, 1000)\n",
    "# change negative numbers to 0\n",
    "normal = ((np.absolute(normal) + normal)/2).round()\n",
    "# each element represents the probability one cluster will be chosen\n",
    "cluster_prob = []\n",
    "\n",
    "for i in range(0, clusterNum):\n",
    "    this_cluster = df.loc[df['cluster'] == i]\n",
    "    # probability of one cluster being chosen\n",
    "    cluster_prob.append(this_cluster.shape[0] * prob)"
   ]
  },
  {
   "cell_type": "code",
   "execution_count": 49,
   "metadata": {
    "collapsed": true
   },
   "outputs": [],
   "source": [
    "import random\n",
    "\n",
    "for i in range(0, 1000):\n",
    "    num = normal[i]\n",
    "    # set initial vector\n",
    "    initial = df.shape[0] * [0]\n",
    "    # choose cluster based on probability\n",
    "    chosenCluster = clusterArray.sample(n=pickCluster, weights=cluster_prob)    \n",
    "    # pick activities from each cluster\n",
    "    for x in range(0, len(chosenCluster.index)):\n",
    "        # use a counter to stop for loop when num is exceeded\n",
    "        counter = 0\n",
    "        # new dataframe of the cluster\n",
    "        target_cluster = df.loc[df['cluster'] == chosenCluster.index[x]]\n",
    "        # random row numbers\n",
    "        actArray = random.sample(range(0, target_cluster.shape[0]), numAct)\n",
    "        for n in range(0, numAct):\n",
    "            if (num > counter):   \n",
    "                initial[target_cluster.iloc[actArray[n]].name] = 1\n",
    "                counter+=1\n",
    "    students.loc[i] = initial"
   ]
  },
  {
   "cell_type": "code",
   "execution_count": 50,
   "metadata": {
    "collapsed": true
   },
   "outputs": [],
   "source": [
    "students.to_csv('/Users/derekliu/Desktop/Generated_Profiles.csv')"
   ]
  },
  {
   "cell_type": "code",
   "execution_count": null,
   "metadata": {
    "collapsed": true
   },
   "outputs": [],
   "source": []
  }
 ],
 "metadata": {
  "kernelspec": {
   "display_name": "Python 3",
   "language": "python",
   "name": "python3"
  },
  "language_info": {
   "codemirror_mode": {
    "name": "ipython",
    "version": 3
   },
   "file_extension": ".py",
   "mimetype": "text/x-python",
   "name": "python",
   "nbconvert_exporter": "python",
   "pygments_lexer": "ipython3",
   "version": "3.6.2"
  }
 },
 "nbformat": 4,
 "nbformat_minor": 2
}
